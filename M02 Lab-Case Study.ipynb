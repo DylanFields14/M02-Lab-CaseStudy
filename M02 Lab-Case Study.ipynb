{
 "cells": [
  {
   "cell_type": "code",
   "execution_count": null,
   "id": "23d17ed7",
   "metadata": {},
   "outputs": [
    {
     "name": "stdout",
     "output_type": "stream",
     "text": [
      "Enter the student's last name (or ZZZ to quit): Fields\n",
      "Enter the student's first name: Dylan\n",
      "Enter the student's GPA: 3.25\n",
      "Dylan Fields has made the Honor Roll.\n",
      "Enter the student's last name (or ZZZ to quit): Gehan\n",
      "Enter the student's first name: Claudia\n",
      "Enter the student's GPA: 3.9\n",
      "Claudia Gehan has made the Dean's List.\n",
      "Enter the student's last name (or ZZZ to quit): Fields\n",
      "Enter the student's first name: Alton\n",
      "Enter the student's GPA: 3.1\n",
      "Sorry, Alton Fields has not made the Dean's List or Honor Roll.\n",
      "Enter the student's last name (or ZZZ to quit): Fields\n",
      "Enter the student's first name: Jeana\n",
      "Enter the student's GPA: 3.5\n",
      "Jeana Fields has made the Dean's List.\n",
      "Enter the student's last name (or ZZZ to quit): Gehan\n",
      "Enter the student's first name: Gabe\n",
      "Enter the student's GPA: 1.6\n",
      "Sorry, Gabe Gehan has not made the Dean's List or Honor Roll.\n"
     ]
    }
   ],
   "source": [
    "#Name: Dylan Fields\n",
    "#File: M02 Lab-Case Study\n",
    "#What is it: This code asks for a student to enter their name and GPA. It will tell them if they are either on the deans list\n",
    "# or the honor roll. \n",
    "\n",
    "def main():\n",
    "    student_records = []\n",
    "\n",
    "    while True:\n",
    "        last_name = input(\"Enter the student's last name (or ZZZ to quit): \")\n",
    "        if last_name == 'ZZZ':\n",
    "            break\n",
    "\n",
    "        first_name = input(\"Enter the student's first name: \")\n",
    "\n",
    "        gpa = float(input(\"Enter the student's GPA: \"))\n",
    "\n",
    "        record = {'last_name': last_name, 'first_name': first_name, 'gpa': gpa}\n",
    "\n",
    "        student_records.append(record)\n",
    "\n",
    "        if gpa >= 3.5:\n",
    "            print(f\"{first_name} {last_name} has made the Dean's List.\")\n",
    "        elif gpa >= 3.25:\n",
    "            print(f\"{first_name} {last_name} has made the Honor Roll.\")\n",
    "        else:\n",
    "            print(f\"Sorry, {first_name} {last_name} has not made the Dean's List or Honor Roll.\")\n",
    "\n",
    "    print(\"\\nStudent Records:\")\n",
    "    for record in student_records:\n",
    "        print(f\"{record['first_name']} {record['last_name']}: {record['gpa']}\")\n",
    "\n",
    "\n",
    "if __name__ == '__main__':\n",
    "    main()"
   ]
  },
  {
   "cell_type": "code",
   "execution_count": null,
   "id": "54cc06f5",
   "metadata": {},
   "outputs": [],
   "source": []
  }
 ],
 "metadata": {
  "kernelspec": {
   "display_name": "Python 3 (ipykernel)",
   "language": "python",
   "name": "python3"
  },
  "language_info": {
   "codemirror_mode": {
    "name": "ipython",
    "version": 3
   },
   "file_extension": ".py",
   "mimetype": "text/x-python",
   "name": "python",
   "nbconvert_exporter": "python",
   "pygments_lexer": "ipython3",
   "version": "3.11.4"
  }
 },
 "nbformat": 4,
 "nbformat_minor": 5
}
